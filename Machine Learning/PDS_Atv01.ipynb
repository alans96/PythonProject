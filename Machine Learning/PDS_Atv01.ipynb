{
  "cells": [
    {
      "cell_type": "code",
      "execution_count": null,
      "metadata": {
        "id": "H9vpukK5o0Ne"
      },
      "outputs": [],
      "source": [
        "import numpy as np\n",
        "import pandas as pd\n",
        "import matplotlib.pyplot as plt\n",
        "%matplotlib inline\n"
      ]
    },
    {
      "cell_type": "markdown",
      "metadata": {
        "id": "iuiHFYzjz1nn"
      },
      "source": [
        "###  Defina as constantes: a e N"
      ]
    },
    {
      "cell_type": "code",
      "execution_count": null,
      "metadata": {
        "id": "HMytIYKTz0T7"
      },
      "outputs": [],
      "source": [
        "a = 0.5\n",
        "N = 4"
      ]
    },
    {
      "cell_type": "markdown",
      "metadata": {
        "id": "oPzxD8wst0oT"
      },
      "source": [
        "### Solucao por Convolucao"
      ]
    },
    {
      "cell_type": "code",
      "execution_count": null,
      "metadata": {
        "id": "shdTxLsqtyts"
      },
      "outputs": [],
      "source": [
        "def geraSinais(N, a):\n",
        "  un = np.ones(2*N)\n",
        "  un_N = np.concatenate( [np.zeros(N), np.ones(N)] )\n",
        "  xn = un - un_N \n",
        "  hn = np.concatenate( [np.power(a, np.arange(N)), np.zeros(N)] )\n",
        "  print(\"N:{}, a:{}\".format(N, a))\n",
        "  print(\"Sinal x(n): {}\".format(xn) )\n",
        "  print(\"Resposta h(n): {}\".format(hn) )\n",
        "  return xn, hn"
      ]
    },
    {
      "cell_type": "code",
      "execution_count": null,
      "metadata": {
        "id": "TrFCi2kIp3xj"
      },
      "outputs": [],
      "source": [
        "def convolution(xn, hn):\n",
        "  yn = []\n",
        "  for n in range(0, 2*N):\n",
        "    sum = 0\n",
        "    for k in range(0, 2*N):\n",
        "      m = n - k\n",
        "      if (m<0):\n",
        "        continue\n",
        "      sum += xn[k]*hn[m]\n",
        "    yn.append( sum  )\n",
        "  yn = np.array(yn)\n",
        "  print(\"Sinal y(n)=x(n)*h(n): {}\".format(yn) )\n",
        "  return yn"
      ]
    },
    {
      "cell_type": "code",
      "execution_count": null,
      "metadata": {
        "colab": {
          "base_uri": "https://localhost:8080/"
        },
        "id": "ysoxUKDaqOSx",
        "outputId": "f68ed754-d435-40da-e10a-c28f0ff1d407"
      },
      "outputs": [
        {
          "name": "stdout",
          "output_type": "stream",
          "text": [
            "N:4, a:0.5\n",
            "Sinal x(n): [1. 1. 1. 1. 0. 0. 0. 0.]\n",
            "Resposta h(n): [1.    0.5   0.25  0.125 0.    0.    0.    0.   ]\n",
            "Sinal y(n)=x(n)*h(n): [1.    1.5   1.75  1.875 0.875 0.375 0.125 0.   ]\n"
          ]
        }
      ],
      "source": [
        "xn, hn = geraSinais(N, a)\n",
        "yn = convolution(xn, hn)"
      ]
    },
    {
      "cell_type": "code",
      "execution_count": null,
      "metadata": {
        "colab": {
          "base_uri": "https://localhost:8080/",
          "height": 256
        },
        "id": "rFVuDcDfv8Pc",
        "outputId": "928ae428-a999-4c07-efb3-69094c470c0c"
      },
      "outputs": [
        {
          "data": {
            "image/png": "[encoded data removed]",
            "text/plain": [
              "<Figure size 720x216 with 1 Axes>"
            ]
          },
          "metadata": {
            "needs_background": "light"
          },
          "output_type": "display_data"
        }
      ],
      "source": [
        "fig, ax = plt.subplots(1, 1,figsize=(10,3))\n",
        "\n",
        "ax.vlines(x = np.arange(0, 2*N), ymin = np.zeros(2*N), ymax = yn, colors = 'magenta', lw=2.5)\n",
        "\n",
        "for xi in np.arange(0, 2*N):\n",
        "  ax.text(x = xi, y = yn[xi]+0.1, s = str(yn[xi]) )\n",
        "\n",
        "### personalizando grafico\n",
        "ax.spines['top'].set_visible(False);\n",
        "ax.spines['right'].set_visible(False);\n",
        "ax.set_xlabel('amostra (n)');\n",
        "ax.set_ylabel('y[n]');\n",
        "ax.set_ylim(0, 2.5);\n",
        "ax.set_title(\"y[n] = x[n]*h[n]\\nConvolução\");"
      ]
    },
    {
      "cell_type": "markdown",
      "metadata": {
        "id": "EXXdR_0pzahg"
      },
      "source": [
        "### Solucao Analítica"
      ]
    },
    {
      "cell_type": "code",
      "execution_count": null,
      "metadata": {
        "colab": {
          "base_uri": "https://localhost:8080/"
        },
        "id": "SR6SzyxozaFV",
        "outputId": "2791e759-1443-4367-f40a-173f34414013"
      },
      "outputs": [
        {
          "name": "stdout",
          "output_type": "stream",
          "text": [
            "intervalo 1:[0 1 2 3]\n",
            "intervalo 1:[4 5 6]\n",
            "Sinal y(n)=x(n)*h(n): [1.    1.5   1.75  1.875 0.875 0.375 0.125 0.   ]\n"
          ]
        }
      ],
      "source": [
        "### intervalo 1 - 0<= n <=N-1\n",
        "print(\"intervalo 1:{}\".format(np.arange(0, N)))\n",
        "i1 = (1-np.power(a, np.arange(0, N)+1 ))/(1-a) \n",
        "\n",
        "### intervalo 2 - N-1< n < 2N-2\n",
        "i2= []\n",
        "print(\"intervalo 1:{}\".format(np.array( range(N, 2*N-1))))\n",
        "for n in range(N, 2*N-1):\n",
        "  i2.append( (np.power(a, n-N+1) - np.power(a, N))/(1-a) )\n",
        "i2 = np.array(i2)\n",
        "yn = np.concatenate( [i1, i2, np.array([0])] )\n",
        "print(\"Sinal y(n)=x(n)*h(n): {}\".format(yn) )"
      ]
    },
    {
      "cell_type": "code",
      "execution_count": null,
      "metadata": {
        "colab": {
          "base_uri": "https://localhost:8080/"
        },
        "id": "Hxuvv14b0FU_",
        "outputId": "d506bc5b-6dc5-4fdc-d05f-3a8804234337"
      },
      "outputs": [
        {
          "data": {
            "image/png": "[encoded data removed]",
            "text/plain": [
              "<Figure size 720x216 with 1 Axes>"
            ]
          },
          "metadata": {
            "needs_background": "light"
          },
          "output_type": "display_data"
        }
      ],
      "source": [
        "fig, ax = plt.subplots(1, 1,figsize=(10,3))\n",
        "\n",
        "ax.vlines(x = np.arange(0, 2*N), ymin = np.zeros(2*N), ymax = yn, colors = 'skyblue', lw=2.5)\n",
        "\n",
        "for xi in np.arange(0, 2*N):\n",
        "  ax.text(x = xi, y = yn[xi]+0.1, s = str(yn[xi]) )\n",
        "\n",
        "### personalizando grafico\n",
        "ax.spines['top'].set_visible(False);\n",
        "ax.spines['right'].set_visible(False);\n",
        "ax.set_xlabel('amostra (n)');\n",
        "ax.set_ylabel('y[n]');\n",
        "ax.set_ylim(0, 2.5);\n",
        "ax.set_title(\"y[n] = x[n]*h[n]\\nAnalítica\");"
      ]
    }
  ],
  "metadata": {
    "colab": {
      "collapsed_sections": [],
      "name": "PDS_Atv01.ipynb",
      "provenance": []
    },
    "kernelspec": {
      "display_name": "Python 3.8.5 ('base')",
      "language": "python",
      "name": "python3"
    },
    "language_info": {
      "name": "python",
      "version": "3.8.5"
    },
    "vscode": {
      "interpreter": {
        "hash": "ff6fa292ae98aa05c4d194a2c94c58275f5644042c330822fb3e4d53afcb9148"
      }
    }
  },
  "nbformat": 4,
  "nbformat_minor": 0
}
